{
 "cells": [
  {
   "cell_type": "code",
   "execution_count": 1,
   "metadata": {
    "id": "scxcuNIsCj1W"
   },
   "outputs": [],
   "source": [
    "import pandas as pd\n",
    "import numpy as np\n",
    "import matplotlib.pyplot as plt\n",
    "import warnings\n",
    "warnings.filterwarnings(\"ignore\")\n",
    "from scipy.stats import ttest_ind,ttest_rel\n",
    "from scipy import stats"
   ]
  },
  {
   "cell_type": "code",
   "execution_count": 2,
   "metadata": {
    "id": "GGcDM24-Eso3"
   },
   "outputs": [],
   "source": [
    "data=pd.read_csv('adult.csv',na_values='?',skipinitialspace=True)"
   ]
  },
  {
   "cell_type": "code",
   "execution_count": 3,
   "metadata": {
    "colab": {
     "base_uri": "https://localhost:8080/",
     "height": 443
    },
    "id": "x2VSougwE580",
    "outputId": "8fc69bec-5cfd-4f54-c554-c4c386933769"
   },
   "outputs": [],
   "source": [
    "data.head()"
   ]
  },
  {
   "cell_type": "code",
   "execution_count": 4,
   "metadata": {
    "id": "OBK72Zw4E7lv"
   },
   "outputs": [],
   "source": [
    "#eda"
   ]
  },
  {
   "cell_type": "code",
   "execution_count": 5,
   "metadata": {
    "colab": {
     "base_uri": "https://localhost:8080/"
    },
    "id": "DHHUEybJGYXw",
    "outputId": "9acc92f8-734f-4c05-c320-5deff9d0c308"
   },
   "outputs": [],
   "source": [
    "data.shape"
   ]
  },
  {
   "cell_type": "code",
   "execution_count": 6,
   "metadata": {
    "colab": {
     "base_uri": "https://localhost:8080/"
    },
    "id": "7eDsj_q7Ge2N",
    "outputId": "17994f35-53ba-4f7f-bb43-49fab4d19716"
   },
   "outputs": [],
   "source": [
    "data.info()"
   ]
  },
  {
   "cell_type": "code",
   "execution_count": 7,
   "metadata": {
    "colab": {
     "base_uri": "https://localhost:8080/",
     "height": 300
    },
    "id": "tBuXpfZGGiqV",
    "outputId": "49531212-4d60-48d5-f510-65b3563651c4"
   },
   "outputs": [],
   "source": [
    "data.describe()"
   ]
  },
  {
   "cell_type": "code",
   "execution_count": 8,
   "metadata": {
    "colab": {
     "base_uri": "https://localhost:8080/",
     "height": 174
    },
    "id": "kTIROD0SHTXe",
    "outputId": "100a8f09-d006-4e50-b07e-11cccc632c18"
   },
   "outputs": [],
   "source": [
    "data.describe(include='O')"
   ]
  },
  {
   "cell_type": "code",
   "execution_count": 9,
   "metadata": {
    "id": "Dzj85pJtHeuV"
   },
   "outputs": [],
   "source": [
    "# null values"
   ]
  },
  {
   "cell_type": "code",
   "execution_count": 10,
   "metadata": {
    "colab": {
     "base_uri": "https://localhost:8080/"
    },
    "id": "kqc6X4KkHsya",
    "outputId": "decf07f2-6663-416d-89e0-6c7f10ef7414"
   },
   "outputs": [],
   "source": [
    "data.isnull().sum()"
   ]
  },
  {
   "cell_type": "code",
   "execution_count": 11,
   "metadata": {
    "id": "IQ1fkwSRIoI-"
   },
   "outputs": [],
   "source": [
    "data=data.dropna()"
   ]
  },
  {
   "cell_type": "code",
   "execution_count": 12,
   "metadata": {
    "colab": {
     "base_uri": "https://localhost:8080/"
    },
    "id": "nH5pE8CoJI-z",
    "outputId": "2433daca-f805-48bf-ff19-b944d028c33d"
   },
   "outputs": [],
   "source": [
    "data.isnull().sum()"
   ]
  },
  {
   "cell_type": "code",
   "execution_count": 13,
   "metadata": {
    "colab": {
     "base_uri": "https://localhost:8080/"
    },
    "id": "bw9EbMlDJLDo",
    "outputId": "c316d863-9d5a-4285-e90d-ad3b3b5a585c"
   },
   "outputs": [],
   "source": [
    "data.shape"
   ]
  },
  {
   "cell_type": "code",
   "execution_count": 14,
   "metadata": {
    "colab": {
     "base_uri": "https://localhost:8080/"
    },
    "id": "gUDAtWHEJMzG",
    "outputId": "4a855def-7f45-4d31-e359-7bef7b2ffa2b"
   },
   "outputs": [],
   "source": [
    "data['workclass'].value_counts()"
   ]
  },
  {
   "cell_type": "code",
   "execution_count": 15,
   "metadata": {
    "colab": {
     "base_uri": "https://localhost:8080/"
    },
    "id": "H4RhZbtzJczo",
    "outputId": "e854e2dd-d3e7-43dd-c7ea-3c59e42f5394"
   },
   "outputs": [],
   "source": [
    "data['income'].value_counts()"
   ]
  },
  {
   "cell_type": "code",
   "execution_count": 16,
   "metadata": {
    "id": "PLQUZ6PRJi55"
   },
   "outputs": [],
   "source": [
    "data['income']=data['income'].map({'<=50K':0,'>50K':1})"
   ]
  },
  {
   "cell_type": "code",
   "execution_count": 17,
   "metadata": {
    "colab": {
     "base_uri": "https://localhost:8080/"
    },
    "id": "uIPpJejRKBR7",
    "outputId": "26773b95-697f-42dd-b4ef-86fd89ada967"
   },
   "outputs": [],
   "source": [
    "data['income'].value_counts()"
   ]
  },
  {
   "cell_type": "code",
   "execution_count": 18,
   "metadata": {
    "colab": {
     "base_uri": "https://localhost:8080/",
     "height": 443
    },
    "id": "GLEIyXNjKEMI",
    "outputId": "9e411320-62ac-4fff-b723-2d72bd561954"
   },
   "outputs": [],
   "source": [
    "data.head()"
   ]
  },
  {
   "cell_type": "code",
   "execution_count": 19,
   "metadata": {
    "id": "pomTUYKJKVe7"
   },
   "outputs": [],
   "source": [
    "data_num=data.drop(['educational-num','race','income'],axis=1)"
   ]
  },
  {
   "cell_type": "code",
   "execution_count": 20,
   "metadata": {
    "colab": {
     "base_uri": "https://localhost:8080/",
     "height": 354
    },
    "id": "c1Cl6pEgLLQq",
    "outputId": "3104b13e-20d8-47b6-a65b-9b65de755daf"
   },
   "outputs": [],
   "source": [
    "data_num.head()"
   ]
  },
  {
   "cell_type": "code",
   "execution_count": 21,
   "metadata": {
    "colab": {
     "base_uri": "https://localhost:8080/",
     "height": 300
    },
    "id": "3fMsdSyrLNWs",
    "outputId": "2f94502f-998d-429a-effc-bea15821dca1"
   },
   "outputs": [],
   "source": [
    "data_num.describe()"
   ]
  },
  {
   "cell_type": "code",
   "execution_count": 22,
   "metadata": {
    "id": "Z-KX1HIsLQsE"
   },
   "outputs": [],
   "source": [
    "# dustribution"
   ]
  },
  {
   "cell_type": "code",
   "execution_count": 23,
   "metadata": {
    "colab": {
     "base_uri": "https://localhost:8080/",
     "height": 445
    },
    "id": "jJMt-2riNB9l",
    "outputId": "237bd2e1-7e5d-47a8-ff46-34ca6d263371"
   },
   "outputs": [],
   "source": [
    "data['age'].hist(figsize=(5,5))\n",
    "plt.show()"
   ]
  },
  {
   "cell_type": "code",
   "execution_count": 24,
   "metadata": {
    "colab": {
     "base_uri": "https://localhost:8080/"
    },
    "id": "ew89F3Q3NN9j",
    "outputId": "05e6398b-b1c0-4f87-8edd-4e4c866e415e"
   },
   "outputs": [],
   "source": [
    "data[data['age']<70].shape"
   ]
  },
  {
   "cell_type": "code",
   "execution_count": 25,
   "metadata": {
    "colab": {
     "base_uri": "https://localhost:8080/"
    },
    "id": "hCcZI2h5ONlD",
    "outputId": "a19abcd0-aacb-41d4-ed2d-3b5cb223c4e6"
   },
   "outputs": [],
   "source": [
    "data[data['age']>70].shape"
   ]
  },
  {
   "cell_type": "code",
   "execution_count": 26,
   "metadata": {
    "colab": {
     "base_uri": "https://localhost:8080/",
     "height": 445
    },
    "id": "hh4WGY-QOTIJ",
    "outputId": "0d2e6357-478d-474e-e8c2-a026b9ed904b"
   },
   "outputs": [],
   "source": [
    "data['hours-per-week'].hist(figsize=(5,5))\n",
    "plt.show()"
   ]
  },
  {
   "cell_type": "code",
   "execution_count": 27,
   "metadata": {
    "colab": {
     "base_uri": "https://localhost:8080/",
     "height": 463
    },
    "id": "pf-97j7xOhfK",
    "outputId": "743dbd5a-e87a-4297-e674-d1fd840c98ff"
   },
   "outputs": [],
   "source": [
    "data['fnlwgt'].hist(figsize=(5,5))\n",
    "plt.show()"
   ]
  },
  {
   "cell_type": "code",
   "execution_count": 28,
   "metadata": {
    "colab": {
     "base_uri": "https://localhost:8080/",
     "height": 445
    },
    "id": "diReBfJePjgB",
    "outputId": "c7017944-4817-4b1e-8233-2ec18ebe957f"
   },
   "outputs": [],
   "source": [
    "data['capital-gain'].hist(figsize=(5,5))\n",
    "plt.show()"
   ]
  },
  {
   "cell_type": "code",
   "execution_count": 29,
   "metadata": {
    "colab": {
     "base_uri": "https://localhost:8080/",
     "height": 445
    },
    "id": "NheaIkdTP7rB",
    "outputId": "6c262950-2bc7-4c48-bceb-23559a8bcb25"
   },
   "outputs": [],
   "source": [
    "data['capital-loss'].hist(figsize=(5,5))\n",
    "plt.show()"
   ]
  },
  {
   "cell_type": "code",
   "execution_count": 30,
   "metadata": {
    "id": "YWvnkbXyQMWo"
   },
   "outputs": [],
   "source": [
    "import seaborn as sns"
   ]
  },
  {
   "cell_type": "code",
   "execution_count": 31,
   "metadata": {
    "colab": {
     "base_uri": "https://localhost:8080/",
     "height": 524
    },
    "id": "LY9UyozPQidj",
    "outputId": "813b681c-9172-42d2-bf06-8551ccd653ed"
   },
   "outputs": [],
   "source": [
    "sns.relplot(x='capital-gain',y='capital-loss',data=data_num)"
   ]
  },
  {
   "cell_type": "code",
   "execution_count": 32,
   "metadata": {
    "colab": {
     "base_uri": "https://localhost:8080/",
     "height": 549
    },
    "id": "AVPkVxM-QuN8",
    "outputId": "83ac9c9d-9808-416a-e6a2-507362421389"
   },
   "outputs": [],
   "source": [
    "sns.countplot(x='workclass',data=data_num)\n",
    "plt.xticks(rotation=90)\n",
    "plt.show()"
   ]
  },
  {
   "cell_type": "code",
   "execution_count": 33,
   "metadata": {
    "colab": {
     "base_uri": "https://localhost:8080/"
    },
    "id": "RwNV4bGdbysw",
    "outputId": "66f7fccd-305f-4e2b-c4d8-6137278cd768"
   },
   "outputs": [],
   "source": [
    "total=float(len(data['income']))\n",
    "total"
   ]
  },
  {
   "cell_type": "code",
   "execution_count": 34,
   "metadata": {
    "colab": {
     "base_uri": "https://localhost:8080/",
     "height": 465
    },
    "id": "9eEKPf9vSFhB",
    "outputId": "d0e659f5-24aa-4c5d-a43a-d17bc1349cd9"
   },
   "outputs": [],
   "source": [
    "plt.figure(figsize=(10,5))\n",
    "ax=sns.countplot(x='workclass',data=data)\n",
    "total=float(len(data['income']))\n",
    "for p in ax.patches:\n",
    "  height=p.get_height()\n",
    "  ax.text(p.get_x()+p.get_width()/2.,height + 3, '{:0.3f}%'.format((height/total)*100), ha='center')\n",
    "plt.show()"
   ]
  },
  {
   "cell_type": "code",
   "execution_count": 35,
   "metadata": {
    "id": "HQqlQQ3WSuwV"
   },
   "outputs": [],
   "source": [
    "import plotly.graph_objects as go"
   ]
  },
  {
   "cell_type": "code",
   "execution_count": 36,
   "metadata": {
    "colab": {
     "base_uri": "https://localhost:8080/"
    },
    "id": "JjwhVHZFZb2E",
    "outputId": "74332eaa-f907-4230-910b-5936a48f6821"
   },
   "outputs": [],
   "source": [
    "data['workclass'].value_counts()"
   ]
  },
  {
   "cell_type": "code",
   "execution_count": 37,
   "metadata": {
    "colab": {
     "base_uri": "https://localhost:8080/"
    },
    "id": "buSYksY8ZgrT",
    "outputId": "a35364b3-8421-4173-8dc7-4276debb6cb4"
   },
   "outputs": [],
   "source": [
    "x=data['workclass'].value_counts().keys().tolist()\n",
    "x"
   ]
  },
  {
   "cell_type": "code",
   "execution_count": 38,
   "metadata": {
    "colab": {
     "base_uri": "https://localhost:8080/"
    },
    "id": "saK2KTQNZp1e",
    "outputId": "d2467d6c-06ca-4599-9035-4c0d0a3773df"
   },
   "outputs": [],
   "source": [
    "y=data['workclass'].value_counts().tolist()\n",
    "y"
   ]
  },
  {
   "cell_type": "code",
   "execution_count": 39,
   "metadata": {
    "colab": {
     "base_uri": "https://localhost:8080/",
     "height": 542
    },
    "id": "lrq4diHnZOj5",
    "outputId": "c0aa4433-9679-4ac3-a00a-bb2ab1910ada"
   },
   "outputs": [],
   "source": [
    "fig=go.Figure(data=[go.Bar(x=x,y=y)])\n",
    "fig.update_layout(title='workclass',xaxis_title='label',yaxis_title='count')\n",
    "fig.show()"
   ]
  },
  {
   "cell_type": "code",
   "execution_count": 40,
   "metadata": {
    "colab": {
     "base_uri": "https://localhost:8080/",
     "height": 542
    },
    "id": "-84gM5isZ-Nv",
    "outputId": "5cab20be-4e93-406e-8047-4d6515c46a7b"
   },
   "outputs": [],
   "source": [
    "x=data['education'].value_counts().keys().tolist()\n",
    "y=data['education'].value_counts().tolist()\n",
    "fig=go.Figure(data=[go.Bar(x=x,y=y)])\n",
    "fig.update_layout(title='education',xaxis_title='label',yaxis_title='count')\n",
    "fig.show()"
   ]
  },
  {
   "cell_type": "code",
   "execution_count": 41,
   "metadata": {
    "colab": {
     "base_uri": "https://localhost:8080/",
     "height": 465
    },
    "id": "WI8TDhOQbhX6",
    "outputId": "d88b662e-bd4f-49a7-b619-c5bf7cf18f7b"
   },
   "outputs": [],
   "source": [
    "plt.figure(figsize=(10,5))\n",
    "ax=sns.countplot(x='marital-status',data=data)\n",
    "total=float(len(data['income']))\n",
    "for p in ax.patches:\n",
    "  height=p.get_height()\n",
    "  ax.text(p.get_x()+p.get_width()/2.,height + 3, '{:0.3f}%'.format((height/total)*100), ha='center')\n",
    "plt.show()"
   ]
  },
  {
   "cell_type": "code",
   "execution_count": 42,
   "metadata": {
    "colab": {
     "base_uri": "https://localhost:8080/",
     "height": 465
    },
    "id": "g-zxFC3ZdA9R",
    "outputId": "e30c46c2-ac84-4186-8e24-1c6a92d91a05"
   },
   "outputs": [],
   "source": [
    "plt.figure(figsize=(10,5))\n",
    "ax=sns.countplot(x='occupation',data=data)\n",
    "total=float(len(data['income']))\n",
    "for p in ax.patches:\n",
    "  height=p.get_height()\n",
    "  ax.text(p.get_x()+p.get_width()/2.,height + 3, '{:0.3f}%'.format((height/total)*100), ha='center')\n",
    "plt.show()"
   ]
  },
  {
   "cell_type": "code",
   "execution_count": 43,
   "metadata": {
    "colab": {
     "base_uri": "https://localhost:8080/",
     "height": 465
    },
    "id": "RBFuFCdxdEqq",
    "outputId": "9fb00e72-6d8d-41ed-d3fd-68d101f08cf0"
   },
   "outputs": [],
   "source": [
    "plt.figure(figsize=(10,5))\n",
    "ax=sns.countplot(x='relationship',data=data)\n",
    "total=float(len(data['income']))\n",
    "for p in ax.patches:\n",
    "  height=p.get_height()\n",
    "  ax.text(p.get_x()+p.get_width()/2.,height + 3, '{:0.3f}%'.format((height/total)*100), ha='center')\n",
    "plt.show()"
   ]
  },
  {
   "cell_type": "code",
   "execution_count": 44,
   "metadata": {
    "colab": {
     "base_uri": "https://localhost:8080/",
     "height": 465
    },
    "id": "rsmvkbxMdIaQ",
    "outputId": "fe503fe3-d08a-4dcd-eb36-193ef7563b56"
   },
   "outputs": [],
   "source": [
    "plt.figure(figsize=(10,5))\n",
    "ax=sns.countplot(x='gender',data=data)\n",
    "total=float(len(data['income']))\n",
    "for p in ax.patches:\n",
    "  height=p.get_height()\n",
    "  ax.text(p.get_x()+p.get_width()/2.,height + 3, '{:0.3f}%'.format((height/total)*100), ha='center')\n",
    "plt.show()"
   ]
  },
  {
   "cell_type": "code",
   "execution_count": 45,
   "metadata": {
    "colab": {
     "base_uri": "https://localhost:8080/"
    },
    "id": "mPXUw-JgdcCL",
    "outputId": "ad93214b-456d-4bdd-9611-6a36655f984f"
   },
   "outputs": [],
   "source": [
    "data.columns"
   ]
  },
  {
   "cell_type": "code",
   "execution_count": 46,
   "metadata": {
    "colab": {
     "base_uri": "https://localhost:8080/",
     "height": 650
    },
    "id": "R8s8wugoenU_",
    "outputId": "34a3501d-6a2d-4561-8f3d-362e4e6867a8"
   },
   "outputs": [],
   "source": [
    "plt.figure(figsize=(10,5))\n",
    "ax=sns.countplot(x='native-country',data=data)\n",
    "total=float(len(data['income']))\n",
    "for p in ax.patches:\n",
    "  height=p.get_height()\n",
    "  ax.text(p.get_x()+p.get_width()/2.,height + 3, '{:0.3f}%'.format((height/total)*100), ha='center')\n",
    "plt.xticks(rotation=90)\n",
    "plt.show()"
   ]
  },
  {
   "cell_type": "code",
   "execution_count": 47,
   "metadata": {
    "colab": {
     "base_uri": "https://localhost:8080/",
     "height": 465
    },
    "id": "KKJItQuhev2P",
    "outputId": "9060f0b3-a4cb-4517-c2d8-1a632f54d5e5"
   },
   "outputs": [],
   "source": [
    "plt.figure(figsize=(10,5))\n",
    "ax=sns.countplot(x='income',data=data)\n",
    "total=float(len(data['income']))\n",
    "for p in ax.patches:\n",
    "  height=p.get_height()\n",
    "  ax.text(p.get_x()+p.get_width()/2.,height + 3, '{:0.3f}%'.format((height/total)*100), ha='center')\n",
    "plt.show()"
   ]
  },
  {
   "cell_type": "code",
   "execution_count": 48,
   "metadata": {
    "colab": {
     "base_uri": "https://localhost:8080/",
     "height": 850
    },
    "id": "fYRcbi8ue82A",
    "outputId": "c211cbc4-8c6d-485e-c90f-3f5da48c9550"
   },
   "outputs": [],
   "source": [
    "fig= plt.figure(figsize=(10,10))\n",
    "sns.boxplot(x='income',y='age',data=data)\n",
    "plt.show()"
   ]
  },
  {
   "cell_type": "code",
   "execution_count": 49,
   "metadata": {
    "colab": {
     "base_uri": "https://localhost:8080/",
     "height": 112
    },
    "id": "mg88CRQ6foo-",
    "outputId": "dd7d78f5-243b-40b9-956a-fb5b039bdb8c"
   },
   "outputs": [],
   "source": [
    "data[['income','age']].groupby(['income'],as_index=False).mean().sort_values(by='age',ascending=False)"
   ]
  },
  {
   "cell_type": "code",
   "execution_count": 50,
   "metadata": {
    "id": "JtjSnIGsf6yV"
   },
   "outputs": [],
   "source": [
    "# hypothesis test\n",
    "#h0=there is no difference in mean age of income group <50k and >50\n",
    "#alternative= is difference in mean age of income group <50k and >50"
   ]
  },
  {
   "cell_type": "code",
   "execution_count": 51,
   "metadata": {
    "id": "FS4btsaMg5_u"
   },
   "outputs": [],
   "source": [
    "import random\n",
    "data=data[(np.abs(stats.zscore(data['age']))<3)]\n",
    "income_1=data[data['income']==1]['age']\n",
    "income_0=data[data['income']==0]['age']\n",
    "\n",
    "\n",
    "income_0=income_0.values.tolist()\n",
    "income_0=random.sample(income_0,100)\n",
    "income_1=income_1.values.tolist()\n",
    "income_1=random.sample(income_1,100)"
   ]
  },
  {
   "cell_type": "code",
   "execution_count": 52,
   "metadata": {
    "colab": {
     "base_uri": "https://localhost:8080/"
    },
    "id": "GpvUiCyoh8ea",
    "outputId": "43378db5-29e4-446e-a156-d9b326e3e3ff"
   },
   "outputs": [],
   "source": [
    "from scipy.stats import ttest_ind\n",
    "\n",
    "ttest,pval= ttest_ind(income_1,income_0,equal_var=False)\n",
    "print('ttest',ttest)\n",
    "print('p value',pval)"
   ]
  },
  {
   "cell_type": "code",
   "execution_count": 53,
   "metadata": {
    "id": "Hx3LgFV5iWyg"
   },
   "outputs": [],
   "source": [
    "# reject null hypothesis"
   ]
  },
  {
   "cell_type": "code",
   "execution_count": 54,
   "metadata": {
    "colab": {
     "base_uri": "https://localhost:8080/"
    },
    "id": "eahy_E_2ifsd",
    "outputId": "4b0791bf-749f-4ba7-8b45-465d76d171aa"
   },
   "outputs": [],
   "source": [
    "if pval<0.05:\n",
    "  print(\" reject null hypo\")\n",
    "else:\n",
    "  print(\" accept null hypo\")"
   ]
  },
  {
   "cell_type": "code",
   "execution_count": 55,
   "metadata": {
    "colab": {
     "base_uri": "https://localhost:8080/"
    },
    "id": "fdt8U0S8i499",
    "outputId": "baf3c6f3-7d2e-4c5f-c921-2f147bf848f0"
   },
   "outputs": [],
   "source": [
    "import random\n",
    "data=data[(np.abs(stats.zscore(data['hours-per-week']))<3)]\n",
    "income_1=data[data['income']==1]['hours-per-week']\n",
    "income_0=data[data['income']==0]['hours-per-week']\n",
    "\n",
    "\n",
    "income_0=income_0.values.tolist()\n",
    "income_0=random.sample(income_0,100)\n",
    "income_1=income_1.values.tolist()\n",
    "income_1=random.sample(income_1,100)\n",
    "\n",
    "from scipy.stats import ttest_ind\n",
    "\n",
    "ttest,pval= ttest_ind(income_1,income_0,equal_var=False)\n",
    "print('ttest',ttest)\n",
    "print('p value',pval)\n",
    "if pval<0.05:\n",
    "  print(\" reject null hypo\")\n",
    "else:\n",
    "  print(\" accept null hypo\")"
   ]
  },
  {
   "cell_type": "code",
   "execution_count": 56,
   "metadata": {
    "colab": {
     "base_uri": "https://localhost:8080/"
    },
    "id": "wIvaaj1ljeYN",
    "outputId": "c98cd421-07c4-4bf5-d230-d3060c5ed48a"
   },
   "outputs": [],
   "source": [
    "import random\n",
    "data=data[(np.abs(stats.zscore(data['fnlwgt']))<3)]\n",
    "income_1=data[data['income']==1]['fnlwgt']\n",
    "income_0=data[data['income']==0]['fnlwgt']\n",
    "\n",
    "\n",
    "income_0=income_0.values.tolist()\n",
    "income_0=random.sample(income_0,100)\n",
    "income_1=income_1.values.tolist()\n",
    "income_1=random.sample(income_1,100)\n",
    "\n",
    "from scipy.stats import ttest_ind\n",
    "\n",
    "ttest,pval= ttest_ind(income_1,income_0,equal_var=False)\n",
    "print('ttest',ttest)\n",
    "print('p value',pval)\n",
    "if pval<0.05:\n",
    "  print(\" reject null hypo\")\n",
    "else:\n",
    "  print(\" accept null hypo\")"
   ]
  },
  {
   "cell_type": "code",
   "execution_count": 57,
   "metadata": {
    "colab": {
     "base_uri": "https://localhost:8080/"
    },
    "id": "9ULYTQYFjvjm",
    "outputId": "3e14b458-030c-4c1c-b719-1c41a92e21c3"
   },
   "outputs": [],
   "source": [
    "data.columns"
   ]
  },
  {
   "cell_type": "code",
   "execution_count": 58,
   "metadata": {
    "colab": {
     "base_uri": "https://localhost:8080/"
    },
    "id": "4ZMiuijSjrF0",
    "outputId": "226c5da7-27fe-4c47-c37a-ec4399eaa3c0"
   },
   "outputs": [],
   "source": [
    "import random\n",
    "data=data[(np.abs(stats.zscore(data['capital-gain']))<3)]\n",
    "income_1=data[data['income']==1]['capital-gain']\n",
    "income_0=data[data['income']==0]['capital-gain']\n",
    "\n",
    "\n",
    "income_0=income_0.values.tolist()\n",
    "income_0=random.sample(income_0,100)\n",
    "income_1=income_1.values.tolist()\n",
    "income_1=random.sample(income_1,100)\n",
    "\n",
    "from scipy.stats import ttest_ind\n",
    "\n",
    "ttest,pval= ttest_ind(income_1,income_0,equal_var=False)\n",
    "print('ttest',ttest)\n",
    "print('p value',pval)\n",
    "if pval<0.05:\n",
    "  print(\" reject null hypo\")\n",
    "else:\n",
    "  print(\" accept null hypo\")"
   ]
  },
  {
   "cell_type": "code",
   "execution_count": 59,
   "metadata": {
    "colab": {
     "base_uri": "https://localhost:8080/"
    },
    "id": "QpcjFBJbj1LC",
    "outputId": "d89e39a3-bd34-4031-9f58-9c779b21bcc6"
   },
   "outputs": [],
   "source": [
    "import random\n",
    "data=data[(np.abs(stats.zscore(data['capital-loss']))<3)]\n",
    "income_1=data[data['income']==1]['capital-loss']\n",
    "income_0=data[data['income']==0]['capital-loss']\n",
    "\n",
    "\n",
    "income_0=income_0.values.tolist()\n",
    "income_0=random.sample(income_0,100)\n",
    "income_1=income_1.values.tolist()\n",
    "income_1=random.sample(income_1,100)\n",
    "\n",
    "from scipy.stats import ttest_ind\n",
    "\n",
    "ttest,pval= ttest_ind(income_1,income_0,equal_var=False)\n",
    "print('ttest',ttest)\n",
    "print('p value',pval)\n",
    "if pval<0.05:\n",
    "  print(\" reject null hypo\")\n",
    "else:\n",
    "  print(\" accept null hypo\")"
   ]
  },
  {
   "cell_type": "code",
   "execution_count": 60,
   "metadata": {
    "colab": {
     "base_uri": "https://localhost:8080/",
     "height": 443
    },
    "id": "IG5D3Z7lj60-",
    "outputId": "0d196c19-734d-4946-ae3a-c1e968282c61"
   },
   "outputs": [],
   "source": [
    "data.head()"
   ]
  },
  {
   "cell_type": "code",
   "execution_count": 61,
   "metadata": {
    "id": "36wKZzMYkfgq"
   },
   "outputs": [],
   "source": [
    "# contingency table\n",
    "c = pd.crosstab(data['workclass'].sample(frac=0.002, replace=True, random_state=1),data['income'].sample(frac=0.002, replace=True, random_state=1),margins = False)\n"
   ]
  },
  {
   "cell_type": "code",
   "execution_count": 62,
   "metadata": {
    "colab": {
     "base_uri": "https://localhost:8080/",
     "height": 268
    },
    "id": "QnfvAnGfN5HR",
    "outputId": "1198cb8f-852a-4fbb-869f-915551eb72bd"
   },
   "outputs": [],
   "source": [
    "c"
   ]
  },
  {
   "cell_type": "code",
   "execution_count": 63,
   "metadata": {
    "id": "zcIvGJXAOR2x"
   },
   "outputs": [],
   "source": [
    "from scipy.stats import chi2_contingency\n",
    "from scipy.stats import chi2"
   ]
  },
  {
   "cell_type": "code",
   "execution_count": 64,
   "metadata": {
    "colab": {
     "base_uri": "https://localhost:8080/"
    },
    "id": "Qs3CoR1-QaT-",
    "outputId": "52896686-6583-4bf8-89d3-a192d50623b3"
   },
   "outputs": [],
   "source": [
    "stats,p,dof,expected=chi2_contingency(c)\n",
    "print(\"degree of fredom: \",dof)\n",
    "print(\"p value:\",p)\n",
    "print(\"expected: \",expected)\n",
    "\n",
    "prob=0.95\n",
    "critical=chi2.ppf(prob,dof)\n",
    "print(\" probability =%.3f , critical=%.3f , stats=%.3f\"%(prob,critical,stats))\n",
    "\n",
    "if abs(stats)>=critical:\n",
    "  print(\"accept null hypothesis\")\n",
    "else:\n",
    "  print(\"accept alternative hypothesis\")"
   ]
  },
  {
   "cell_type": "code",
   "execution_count": 65,
   "metadata": {
    "colab": {
     "base_uri": "https://localhost:8080/"
    },
    "id": "FZyza_TlQxGo",
    "outputId": "474e3f95-2902-4a76-83a4-8c4e6e633987"
   },
   "outputs": [],
   "source": [
    "# contingency table\n",
    "c = pd.crosstab(data['education'].sample(frac=0.002, replace=True, random_state=1),data['income'].sample(frac=0.002, replace=True, random_state=1),margins = False)\n",
    "print(c)\n",
    "from scipy.stats import chi2_contingency\n",
    "from scipy.stats import chi2\n",
    "stats,p,dof,expected=chi2_contingency(c)\n",
    "print(\"degree of fredom: \",dof)\n",
    "print(\"p value:\",p)\n",
    "print(\"expected: \",expected)\n",
    "\n",
    "prob=0.95\n",
    "critical=chi2.ppf(prob,dof)\n",
    "print(\" probability =%.3f , critical=%.3f , stats=%.3f\"%(prob,critical,stats))\n",
    "\n",
    "if abs(stats)>=critical:\n",
    "  print(\"accept null hypothesis\")\n",
    "else:\n",
    "  print(\"accept alternative hypothesis\")"
   ]
  },
  {
   "cell_type": "markdown",
   "metadata": {
    "id": "tzUhpKVZUG1p"
   },
   "source": [
    "there is no relationship"
   ]
  },
  {
   "cell_type": "code",
   "execution_count": 66,
   "metadata": {
    "colab": {
     "base_uri": "https://localhost:8080/"
    },
    "id": "cIvMzlRJT2w3",
    "outputId": "c2eaf816-64f9-44bd-977b-4168fde6c67c"
   },
   "outputs": [],
   "source": [
    "# contingency table\n",
    "c = pd.crosstab(data['marital-status'].sample(frac=0.002, replace=True, random_state=1),data['income'].sample(frac=0.002, replace=True, random_state=1),margins = False)\n",
    "print(c)\n",
    "from scipy.stats import chi2_contingency\n",
    "from scipy.stats import chi2\n",
    "stats,p,dof,expected=chi2_contingency(c)\n",
    "print(\"degree of fredom: \",dof)\n",
    "print(\"p value:\",p)\n",
    "print(\"expected: \",expected)\n",
    "\n",
    "prob=0.95\n",
    "critical=chi2.ppf(prob,dof)\n",
    "print(\" probability =%.3f , critical=%.3f , stats=%.3f\"%(prob,critical,stats))\n",
    "\n",
    "if abs(stats)>=critical:\n",
    "  print(\"accept null hypothesis\")\n",
    "else:\n",
    "  print(\"accept alternative hypothesis\")"
   ]
  },
  {
   "cell_type": "code",
   "execution_count": 67,
   "metadata": {
    "colab": {
     "base_uri": "https://localhost:8080/"
    },
    "id": "Us-OO0XAUZRM",
    "outputId": "0919a08a-34c8-4753-c2d1-99304ce8c4f5"
   },
   "outputs": [],
   "source": [
    "# contingency table\n",
    "c = pd.crosstab(data['occupation'].sample(frac=0.002, replace=True, random_state=1),data['income'].sample(frac=0.002, replace=True, random_state=1),margins = False)\n",
    "print(c)\n",
    "from scipy.stats import chi2_contingency\n",
    "from scipy.stats import chi2\n",
    "stats,p,dof,expected=chi2_contingency(c)\n",
    "print(\"degree of fredom: \",dof)\n",
    "print(\"p value:\",p)\n",
    "print(\"expected: \",expected)\n",
    "\n",
    "prob=0.95\n",
    "critical=chi2.ppf(prob,dof)\n",
    "print(\" probability =%.3f , critical=%.3f , stats=%.3f\"%(prob,critical,stats))\n",
    "\n",
    "if abs(stats)>=critical:\n",
    "  print(\"null hypo - no relationship\")\n",
    "else:\n",
    "  print(\"alternative - relationship\")"
   ]
  },
  {
   "cell_type": "code",
   "execution_count": 68,
   "metadata": {
    "colab": {
     "base_uri": "https://localhost:8080/"
    },
    "id": "cL8YVbGXVKKM",
    "outputId": "ba168ab9-3f35-4786-9646-686009f89a9e"
   },
   "outputs": [],
   "source": [
    "# contingency table\n",
    "c = pd.crosstab(data['relationship'].sample(frac=0.002, replace=True, random_state=1),data['income'].sample(frac=0.002, replace=True, random_state=1),margins = False)\n",
    "print(c)\n",
    "from scipy.stats import chi2_contingency\n",
    "from scipy.stats import chi2\n",
    "stats,p,dof,expected=chi2_contingency(c)\n",
    "print(\"degree of fredom: \",dof)\n",
    "print(\"p value:\",p)\n",
    "print(\"expected: \",expected)\n",
    "\n",
    "prob=0.95\n",
    "critical=chi2.ppf(prob,dof)\n",
    "print(\" probability =%.3f , critical=%.3f , stats=%.3f\"%(prob,critical,stats))\n",
    "\n",
    "if abs(stats)>=critical:\n",
    "  print(\"null hypo - no relationship\")\n",
    "else:\n",
    "  print(\"alternative - relationship\")"
   ]
  },
  {
   "cell_type": "code",
   "execution_count": 69,
   "metadata": {
    "colab": {
     "base_uri": "https://localhost:8080/"
    },
    "id": "pwNCTRZvV1dy",
    "outputId": "59c8f6b3-ad4a-40a0-bf92-dab4e2ff6732"
   },
   "outputs": [],
   "source": [
    "# contingency table\n",
    "c = pd.crosstab(data['race'].sample(frac=0.002, replace=True, random_state=1),data['income'].sample(frac=0.002, replace=True, random_state=1),margins = False)\n",
    "print(c)\n",
    "from scipy.stats import chi2_contingency\n",
    "from scipy.stats import chi2\n",
    "stats,p,dof,expected=chi2_contingency(c)\n",
    "print(\"degree of fredom: \",dof)\n",
    "print(\"p value:\",p)\n",
    "print(\"expected: \",expected)\n",
    "\n",
    "prob=0.95\n",
    "critical=chi2.ppf(prob,dof)\n",
    "print(\" probability =%.3f , critical=%.3f , stats=%.3f\"%(prob,critical,stats))\n",
    "\n",
    "if abs(stats)>=critical:\n",
    "  print(\"null hypo - no relationship\")\n",
    "else:\n",
    "  print(\"alternative - relationship\")"
   ]
  },
  {
   "cell_type": "code",
   "execution_count": 70,
   "metadata": {
    "colab": {
     "base_uri": "https://localhost:8080/"
    },
    "id": "yoXc_liWWHyA",
    "outputId": "bfb71d39-e733-4508-d824-8489b20df853"
   },
   "outputs": [],
   "source": [
    "# contingency table\n",
    "c = pd.crosstab(data['gender'].sample(frac=0.002, replace=True, random_state=1),data['income'].sample(frac=0.002, replace=True, random_state=1),margins = False)\n",
    "print(c)\n",
    "from scipy.stats import chi2_contingency\n",
    "from scipy.stats import chi2\n",
    "stats,p,dof,expected=chi2_contingency(c)\n",
    "print(\"degree of fredom: \",dof)\n",
    "print(\"p value:\",p)\n",
    "print(\"expected: \",expected)\n",
    "\n",
    "prob=0.95\n",
    "critical=chi2.ppf(prob,dof)\n",
    "print(\" probability =%.3f , critical=%.3f , stats=%.3f\"%(prob,critical,stats))\n",
    "\n",
    "if abs(stats)>=critical:\n",
    "  print(\"null hypo - no relationship\")\n",
    "else:\n",
    "  print(\"alternative - relationship\")"
   ]
  },
  {
   "cell_type": "code",
   "execution_count": 71,
   "metadata": {
    "colab": {
     "base_uri": "https://localhost:8080/",
     "height": 443
    },
    "id": "qhrDYpVdWWRo",
    "outputId": "856fa5c3-d418-479d-c423-18fe26aa34ab"
   },
   "outputs": [],
   "source": [
    "data.head()"
   ]
  },
  {
   "cell_type": "code",
   "execution_count": 72,
   "metadata": {
    "colab": {
     "base_uri": "https://localhost:8080/"
    },
    "id": "8r5NLOetWXIY",
    "outputId": "4bf61e49-f78b-4feb-b4bb-29623f4e6af1"
   },
   "outputs": [],
   "source": [
    "# contingency table\n",
    "c = pd.crosstab(data['native-country'].sample(frac=0.002, replace=True, random_state=1),data['income'].sample(frac=0.002, replace=True, random_state=1),margins = False)\n",
    "print(c)\n",
    "from scipy.stats import chi2_contingency\n",
    "from scipy.stats import chi2\n",
    "stats,p,dof,expected=chi2_contingency(c)\n",
    "print(\"degree of fredom: \",dof)\n",
    "print(\"p value:\",p)\n",
    "print(\"expected: \",expected)\n",
    "\n",
    "prob=0.95\n",
    "critical=chi2.ppf(prob,dof)\n",
    "print(\" probability =%.3f , critical=%.3f , stats=%.3f\"%(prob,critical,stats))\n",
    "\n",
    "if abs(stats)>=critical:\n",
    "  print(\"null hypo - no relationship\")\n",
    "else:\n",
    "  print(\"alternative - relationship\")"
   ]
  },
  {
   "cell_type": "code",
   "execution_count": 73,
   "metadata": {
    "colab": {
     "base_uri": "https://localhost:8080/",
     "height": 354
    },
    "id": "iVQROHv7Wpkk",
    "outputId": "060262c5-cb6e-45b1-d9f4-35db88f4820c"
   },
   "outputs": [],
   "source": [
    "data_num.head()"
   ]
  },
  {
   "cell_type": "code",
   "execution_count": 74,
   "metadata": {
    "colab": {
     "base_uri": "https://localhost:8080/",
     "height": 808
    },
    "id": "JRvlooITXNxl",
    "outputId": "b9919ea4-2302-4c12-beb7-7fb72370d03d"
   },
   "outputs": [],
   "source": [
    "plt.figure(figsize=(15,10))\n",
    "sns.heatmap(data_num.corr(),annot=True,cmap='Blues')\n",
    "plt.title(\"numeric data corr\")\n",
    "plt.show()"
   ]
  },
  {
   "cell_type": "code",
   "execution_count": 75,
   "metadata": {
    "colab": {
     "base_uri": "https://localhost:8080/",
     "height": 627
    },
    "id": "_4rAryACXvan",
    "outputId": "a2975fd7-2242-4b65-9c8f-002d0b7ee341"
   },
   "outputs": [],
   "source": [
    "fig=plt.figure(figsize=(17,10))\n",
    "ax1=fig.add_subplot(2,1,1)\n",
    "sns.stripplot(x='age',y='capital-gain',data=data)\n",
    "\n",
    "\n",
    "ax2=fig.add_subplot(2,1,2)\n",
    "sns.stripplot(x='age',y='capital-loss',data=data)\n",
    "ax2.set_ylim(0,40000)\n",
    "\n",
    "plt.tight_layout()\n",
    "plt.show()"
   ]
  },
  {
   "cell_type": "code",
   "execution_count": 76,
   "metadata": {
    "colab": {
     "base_uri": "https://localhost:8080/",
     "height": 443
    },
    "id": "hZBNddFkZp5-",
    "outputId": "1f432cbb-d7b2-41d0-9e43-6496a4160043"
   },
   "outputs": [],
   "source": [
    "data.head()"
   ]
  },
  {
   "cell_type": "code",
   "execution_count": 77,
   "metadata": {
    "id": "u-33badge_xy"
   },
   "outputs": [],
   "source": [
    "data['capital-change']=data['capital-gain']-data['capital-loss']"
   ]
  },
  {
   "cell_type": "code",
   "execution_count": 78,
   "metadata": {
    "colab": {
     "base_uri": "https://localhost:8080/",
     "height": 443
    },
    "id": "n7ji1w6cfQFF",
    "outputId": "1f8e0292-3c4f-4c73-b4a5-68cccd33ce9a"
   },
   "outputs": [],
   "source": [
    "data.head()"
   ]
  },
  {
   "cell_type": "code",
   "execution_count": 79,
   "metadata": {
    "colab": {
     "base_uri": "https://localhost:8080/",
     "height": 451
    },
    "id": "WCBsJKj1fSAE",
    "outputId": "05185ffa-be16-4788-e1fc-35a39e717dc2"
   },
   "outputs": [],
   "source": [
    "data['capital-change'].hist()"
   ]
  },
  {
   "cell_type": "code",
   "execution_count": 80,
   "metadata": {
    "id": "oQWTJtAqfl44"
   },
   "outputs": [],
   "source": [
    "income_1 = data[data['income']==1][\"capital-change\"]\n",
    "income_0 = data[data['income']==0][\"capital-change\"]\n",
    "\n",
    "data = data[(np.abs(stats.zscore(data[\"age\"])) < 3)]\n",
    "\n",
    "income_0 = income_0.values.tolist()\n",
    "income_0 = random.sample(income_0, 50)\n",
    "income_1 = income_1.values.tolist()\n",
    "income_1 = random.sample(income_1, 50)\n",
    "\n",
    "ttest,pval = ttest_ind(income_1,income_0, equal_var=0)\n",
    "print(\"ttest\",ttest)\n",
    "print(\"p-value\",pval)\n",
    "\n",
    "if pval <0.05:\n",
    "    print(\"we reject null hypothesis\")\n",
    "else:\n",
    "    print(\"we accept null hypothesis\")"
   ]
  },
  {
   "cell_type": "code",
   "execution_count": null,
   "metadata": {
    "colab": {
     "base_uri": "https://localhost:8080/",
     "height": 262
    },
    "id": "fE29tqoDf5bb",
    "outputId": "207b554d-47d8-4661-d7c3-7877a1f16238"
   },
   "outputs": [],
   "source": [
    "data.head(2)"
   ]
  },
  {
   "cell_type": "code",
   "execution_count": null,
   "metadata": {
    "colab": {
     "base_uri": "https://localhost:8080/"
    },
    "id": "JTO-ZccQiD6T",
    "outputId": "53785a73-4ded-4dac-be34-eed916239bb6"
   },
   "outputs": [],
   "source": [
    "data['marital-status'].value_counts()"
   ]
  },
  {
   "cell_type": "code",
   "execution_count": null,
   "metadata": {
    "id": "SvzbAXdchnKD"
   },
   "outputs": [],
   "source": [
    "data['gender']=data['gender'].map({'Male':0,'Female':1})\n",
    "data['marital-status']=data['marital-status'].replace(['Never-married','Divorced','Separated','Widowed'],'Single')\n",
    "data['marital-status']=data['marital-status'].replace(['Married-civ-spouse','Married-spouse-absent','Married-AF-spouse'],'Married')"
   ]
  },
  {
   "cell_type": "code",
   "execution_count": null,
   "metadata": {
    "colab": {
     "base_uri": "https://localhost:8080/"
    },
    "id": "_KD8mikGiiRa",
    "outputId": "adcf31a8-7825-46c4-882d-8195962335c3"
   },
   "outputs": [],
   "source": [
    "data['marital-status'].value_counts()"
   ]
  },
  {
   "cell_type": "code",
   "execution_count": null,
   "metadata": {
    "id": "sPW1mYevimsP"
   },
   "outputs": [],
   "source": [
    "data['marital-status']=data['marital-status'].map({'Single':0,'Married':1})\n"
   ]
  },
  {
   "cell_type": "code",
   "execution_count": null,
   "metadata": {
    "id": "eju_-SdKiyhM"
   },
   "outputs": [],
   "source": [
    "data['marital-status']=data['marital-status'].astype(int)\n"
   ]
  },
  {
   "cell_type": "code",
   "execution_count": null,
   "metadata": {
    "id": "3Govs5qdi34a"
   },
   "outputs": [],
   "source": [
    "data.drop(labels=['workclass','education','occupation','relationship','race','native-country','capital-change'],axis=1,inplace=True)"
   ]
  },
  {
   "cell_type": "code",
   "execution_count": null,
   "metadata": {
    "colab": {
     "base_uri": "https://localhost:8080/",
     "height": 112
    },
    "id": "6u8jxl6ljNob",
    "outputId": "7286f485-1434-4503-a43b-4fb13cf1e8a1"
   },
   "outputs": [],
   "source": [
    "data.head(2)"
   ]
  },
  {
   "cell_type": "code",
   "execution_count": null,
   "metadata": {
    "id": "xK7pS-TojR6I"
   },
   "outputs": [],
   "source": [
    "# include objet type data , LE , apply algorithms ----> 1\n",
    "# chi square test (pick the necessary columns) , LE , apply algo --> 2\n",
    "\n",
    "# you dont have to submit it is just for your knowledge"
   ]
  },
  {
   "cell_type": "code",
   "execution_count": null,
   "metadata": {
    "id": "S4axRsmpj31G"
   },
   "outputs": [],
   "source": [
    "#model building"
   ]
  },
  {
   "cell_type": "code",
   "execution_count": null,
   "metadata": {
    "id": "HKrAzyEukLEL"
   },
   "outputs": [],
   "source": [
    "from sklearn.linear_model import LogisticRegression\n",
    "from sklearn.neighbors import KNeighborsClassifier\n",
    "from sklearn.tree import DecisionTreeClassifier\n",
    "from  sklearn.ensemble import RandomForestClassifier\n",
    "from sklearn.naive_bayes import GaussianNB"
   ]
  },
  {
   "cell_type": "code",
   "execution_count": null,
   "metadata": {
    "id": "FN-jzjJJlGk9"
   },
   "outputs": [],
   "source": [
    "from sklearn.metrics import *\n"
   ]
  },
  {
   "cell_type": "code",
   "execution_count": null,
   "metadata": {
    "colab": {
     "base_uri": "https://localhost:8080/",
     "height": 206
    },
    "id": "vAKoWVyalM8A",
    "outputId": "b3dd1dac-969d-42d1-8477-665f9fbf80cc"
   },
   "outputs": [],
   "source": [
    "data.head()"
   ]
  },
  {
   "cell_type": "code",
   "execution_count": null,
   "metadata": {
    "colab": {
     "base_uri": "https://localhost:8080/",
     "height": 423
    },
    "id": "QQZK-VUDlTkH",
    "outputId": "f3dd145d-acea-4223-9ea4-47be38762192"
   },
   "outputs": [],
   "source": [
    "x=data.iloc[:,:-1]\n",
    "x"
   ]
  },
  {
   "cell_type": "code",
   "execution_count": null,
   "metadata": {
    "colab": {
     "base_uri": "https://localhost:8080/"
    },
    "id": "nAdmhsa3lr2N",
    "outputId": "bebc9c46-7fe9-42c7-990a-7817a60d11ad"
   },
   "outputs": [],
   "source": [
    "y=data[\"income\"]\n",
    "y"
   ]
  },
  {
   "cell_type": "code",
   "execution_count": null,
   "metadata": {
    "id": "AmQ-pXisl1ei"
   },
   "outputs": [],
   "source": [
    "from sklearn.model_selection import train_test_split\n"
   ]
  },
  {
   "cell_type": "code",
   "execution_count": null,
   "metadata": {
    "id": "sfmmRPZil9fS"
   },
   "outputs": [],
   "source": [
    "xtrain,xtest,ytrain,ytest=train_test_split( x, y, test_size=0.33, random_state=7)\n"
   ]
  },
  {
   "cell_type": "code",
   "execution_count": null,
   "metadata": {
    "id": "4GywmMo-mPp4"
   },
   "outputs": [],
   "source": [
    "num_trees=100\n",
    "max_features=3"
   ]
  },
  {
   "cell_type": "code",
   "execution_count": null,
   "metadata": {
    "colab": {
     "base_uri": "https://localhost:8080/"
    },
    "id": "glmOGS62m0W4",
    "outputId": "388ebaec-ac74-41a1-a017-2c5d42788a67"
   },
   "outputs": [],
   "source": [
    "models=[]\n",
    "models.append(('LR',LogisticRegression()))\n",
    "models.append(('KNN',KNeighborsClassifier()))\n",
    "models.append(('DT',DecisionTreeClassifier()))\n",
    "models.append(('RF',RandomForestClassifier(n_estimators=num_trees,max_features=max_features,random_state=11)))\n",
    "models.append(('NB',GaussianNB()))\n",
    "\n",
    "models"
   ]
  },
  {
   "cell_type": "code",
   "execution_count": null,
   "metadata": {
    "colab": {
     "base_uri": "https://localhost:8080/"
    },
    "id": "_ka8tGtDnsUJ",
    "outputId": "d5e8ad92-0ede-4533-d521-53fa90863d8d"
   },
   "outputs": [],
   "source": [
    "!pip install pycaret"
   ]
  },
  {
   "cell_type": "code",
   "execution_count": null,
   "metadata": {
    "id": "jGsMYaWSofNw"
   },
   "outputs": [],
   "source": [
    "from pycaret.classification import *"
   ]
  },
  {
   "cell_type": "code",
   "execution_count": null,
   "metadata": {
    "colab": {
     "base_uri": "https://localhost:8080/",
     "height": 644
    },
    "id": "i6GXGZhQorKD",
    "outputId": "fe729875-d2ab-40cf-dcb6-11d1591f9d0f"
   },
   "outputs": [],
   "source": [
    "c=setup(data=data , target='income')"
   ]
  },
  {
   "cell_type": "code",
   "execution_count": null,
   "metadata": {
    "colab": {
     "base_uri": "https://localhost:8080/",
     "height": 663,
     "referenced_widgets": [
      "06231f13726548f09dc42b4a0f759b1b",
      "cfb9db10d22a40bdb51adc066f28ffb1",
      "28837781d7ec43e69a533c282a86635a",
      "7da194fa09d64edb8b84c8ac0b380607",
      "077b799ec76a4a53aa15918f64feef00",
      "5e361c94443d4ce594a4ac35304910af",
      "1093e5a6d1ab4ac488b545afe77b6f96",
      "84747e69a52546e083837d461161c690",
      "5c7ad4925c054451bbe42382fe2eff6b",
      "31e6737844d94e1d8822838173ac6bb0",
      "bc1a4cbe759d4237b2d619ec9a8193bb"
     ]
    },
    "id": "Rw_gA9Vioww9",
    "outputId": "f2e09e63-4591-4d8c-a49c-7fb24feb1d79"
   },
   "outputs": [],
   "source": [
    "compare_models()"
   ]
  },
  {
   "cell_type": "code",
   "execution_count": null,
   "metadata": {
    "id": "GJ2QbGTho06H"
   },
   "outputs": [],
   "source": [
    "rf= RandomForestClassifier(n_estimators=100,max_features=5)"
   ]
  },
  {
   "cell_type": "code",
   "execution_count": null,
   "metadata": {
    "colab": {
     "base_uri": "https://localhost:8080/",
     "height": 178
    },
    "id": "M1jSmp7nrFua",
    "outputId": "1e081f6f-5ce9-4484-eb40-67736bb8f7b7"
   },
   "outputs": [],
   "source": [
    "rf.fit(xtrain,ytrain)"
   ]
  },
  {
   "cell_type": "code",
   "execution_count": null,
   "metadata": {
    "id": "-ysMz5NZrI2i"
   },
   "outputs": [],
   "source": [
    "y_pred=rf.predict(xtest)"
   ]
  },
  {
   "cell_type": "code",
   "execution_count": null,
   "metadata": {
    "colab": {
     "base_uri": "https://localhost:8080/"
    },
    "id": "0-UyTd0lrU8w",
    "outputId": "f07a677d-7e7d-4895-a362-a9ea46f0c721"
   },
   "outputs": [],
   "source": [
    "accuracy_score(ytest,y_pred)"
   ]
  },
  {
   "cell_type": "code",
   "execution_count": null,
   "metadata": {
    "id": "P00dxHC1rZP-"
   },
   "outputs": [],
   "source": []
  }
 ],
 "metadata": {
  "colab": {
   "provenance": []
  },
  "kernelspec": {
   "display_name": "Python 3 (ipykernel)",
   "language": "python",
   "name": "python3"
  },
  "language_info": {
   "codemirror_mode": {
    "name": "ipython",
    "version": 3
   },
   "file_extension": ".py",
   "mimetype": "text/x-python",
   "name": "python",
   "nbconvert_exporter": "python",
   "pygments_lexer": "ipython3",
   "version": "3.9.16"
  },
  "widgets": {
   "application/vnd.jupyter.widget-state+json": {
    "06231f13726548f09dc42b4a0f759b1b": {
     "model_module": "@jupyter-widgets/controls",
     "model_module_version": "1.5.0",
     "model_name": "HBoxModel",
     "state": {
      "_dom_classes": [],
      "_model_module": "@jupyter-widgets/controls",
      "_model_module_version": "1.5.0",
      "_model_name": "HBoxModel",
      "_view_count": null,
      "_view_module": "@jupyter-widgets/controls",
      "_view_module_version": "1.5.0",
      "_view_name": "HBoxView",
      "box_style": "",
      "children": [
       "IPY_MODEL_cfb9db10d22a40bdb51adc066f28ffb1",
       "IPY_MODEL_28837781d7ec43e69a533c282a86635a",
       "IPY_MODEL_7da194fa09d64edb8b84c8ac0b380607"
      ],
      "layout": "IPY_MODEL_077b799ec76a4a53aa15918f64feef00"
     }
    },
    "077b799ec76a4a53aa15918f64feef00": {
     "model_module": "@jupyter-widgets/base",
     "model_module_version": "1.2.0",
     "model_name": "LayoutModel",
     "state": {
      "_model_module": "@jupyter-widgets/base",
      "_model_module_version": "1.2.0",
      "_model_name": "LayoutModel",
      "_view_count": null,
      "_view_module": "@jupyter-widgets/base",
      "_view_module_version": "1.2.0",
      "_view_name": "LayoutView",
      "align_content": null,
      "align_items": null,
      "align_self": null,
      "border": null,
      "bottom": null,
      "display": null,
      "flex": null,
      "flex_flow": null,
      "grid_area": null,
      "grid_auto_columns": null,
      "grid_auto_flow": null,
      "grid_auto_rows": null,
      "grid_column": null,
      "grid_gap": null,
      "grid_row": null,
      "grid_template_areas": null,
      "grid_template_columns": null,
      "grid_template_rows": null,
      "height": null,
      "justify_content": null,
      "justify_items": null,
      "left": null,
      "margin": null,
      "max_height": null,
      "max_width": null,
      "min_height": null,
      "min_width": null,
      "object_fit": null,
      "object_position": null,
      "order": null,
      "overflow": null,
      "overflow_x": null,
      "overflow_y": null,
      "padding": null,
      "right": null,
      "top": null,
      "visibility": "hidden",
      "width": null
     }
    },
    "1093e5a6d1ab4ac488b545afe77b6f96": {
     "model_module": "@jupyter-widgets/controls",
     "model_module_version": "1.5.0",
     "model_name": "DescriptionStyleModel",
     "state": {
      "_model_module": "@jupyter-widgets/controls",
      "_model_module_version": "1.5.0",
      "_model_name": "DescriptionStyleModel",
      "_view_count": null,
      "_view_module": "@jupyter-widgets/base",
      "_view_module_version": "1.2.0",
      "_view_name": "StyleView",
      "description_width": ""
     }
    },
    "28837781d7ec43e69a533c282a86635a": {
     "model_module": "@jupyter-widgets/controls",
     "model_module_version": "1.5.0",
     "model_name": "FloatProgressModel",
     "state": {
      "_dom_classes": [],
      "_model_module": "@jupyter-widgets/controls",
      "_model_module_version": "1.5.0",
      "_model_name": "FloatProgressModel",
      "_view_count": null,
      "_view_module": "@jupyter-widgets/controls",
      "_view_module_version": "1.5.0",
      "_view_name": "ProgressView",
      "bar_style": "",
      "description": "",
      "description_tooltip": null,
      "layout": "IPY_MODEL_84747e69a52546e083837d461161c690",
      "max": 65,
      "min": 0,
      "orientation": "horizontal",
      "style": "IPY_MODEL_5c7ad4925c054451bbe42382fe2eff6b",
      "value": 65
     }
    },
    "31e6737844d94e1d8822838173ac6bb0": {
     "model_module": "@jupyter-widgets/base",
     "model_module_version": "1.2.0",
     "model_name": "LayoutModel",
     "state": {
      "_model_module": "@jupyter-widgets/base",
      "_model_module_version": "1.2.0",
      "_model_name": "LayoutModel",
      "_view_count": null,
      "_view_module": "@jupyter-widgets/base",
      "_view_module_version": "1.2.0",
      "_view_name": "LayoutView",
      "align_content": null,
      "align_items": null,
      "align_self": null,
      "border": null,
      "bottom": null,
      "display": null,
      "flex": null,
      "flex_flow": null,
      "grid_area": null,
      "grid_auto_columns": null,
      "grid_auto_flow": null,
      "grid_auto_rows": null,
      "grid_column": null,
      "grid_gap": null,
      "grid_row": null,
      "grid_template_areas": null,
      "grid_template_columns": null,
      "grid_template_rows": null,
      "height": null,
      "justify_content": null,
      "justify_items": null,
      "left": null,
      "margin": null,
      "max_height": null,
      "max_width": null,
      "min_height": null,
      "min_width": null,
      "object_fit": null,
      "object_position": null,
      "order": null,
      "overflow": null,
      "overflow_x": null,
      "overflow_y": null,
      "padding": null,
      "right": null,
      "top": null,
      "visibility": null,
      "width": null
     }
    },
    "5c7ad4925c054451bbe42382fe2eff6b": {
     "model_module": "@jupyter-widgets/controls",
     "model_module_version": "1.5.0",
     "model_name": "ProgressStyleModel",
     "state": {
      "_model_module": "@jupyter-widgets/controls",
      "_model_module_version": "1.5.0",
      "_model_name": "ProgressStyleModel",
      "_view_count": null,
      "_view_module": "@jupyter-widgets/base",
      "_view_module_version": "1.2.0",
      "_view_name": "StyleView",
      "bar_color": null,
      "description_width": ""
     }
    },
    "5e361c94443d4ce594a4ac35304910af": {
     "model_module": "@jupyter-widgets/base",
     "model_module_version": "1.2.0",
     "model_name": "LayoutModel",
     "state": {
      "_model_module": "@jupyter-widgets/base",
      "_model_module_version": "1.2.0",
      "_model_name": "LayoutModel",
      "_view_count": null,
      "_view_module": "@jupyter-widgets/base",
      "_view_module_version": "1.2.0",
      "_view_name": "LayoutView",
      "align_content": null,
      "align_items": null,
      "align_self": null,
      "border": null,
      "bottom": null,
      "display": null,
      "flex": null,
      "flex_flow": null,
      "grid_area": null,
      "grid_auto_columns": null,
      "grid_auto_flow": null,
      "grid_auto_rows": null,
      "grid_column": null,
      "grid_gap": null,
      "grid_row": null,
      "grid_template_areas": null,
      "grid_template_columns": null,
      "grid_template_rows": null,
      "height": null,
      "justify_content": null,
      "justify_items": null,
      "left": null,
      "margin": null,
      "max_height": null,
      "max_width": null,
      "min_height": null,
      "min_width": null,
      "object_fit": null,
      "object_position": null,
      "order": null,
      "overflow": null,
      "overflow_x": null,
      "overflow_y": null,
      "padding": null,
      "right": null,
      "top": null,
      "visibility": null,
      "width": null
     }
    },
    "7da194fa09d64edb8b84c8ac0b380607": {
     "model_module": "@jupyter-widgets/controls",
     "model_module_version": "1.5.0",
     "model_name": "HTMLModel",
     "state": {
      "_dom_classes": [],
      "_model_module": "@jupyter-widgets/controls",
      "_model_module_version": "1.5.0",
      "_model_name": "HTMLModel",
      "_view_count": null,
      "_view_module": "@jupyter-widgets/controls",
      "_view_module_version": "1.5.0",
      "_view_name": "HTMLView",
      "description": "",
      "description_tooltip": null,
      "layout": "IPY_MODEL_31e6737844d94e1d8822838173ac6bb0",
      "placeholder": "​",
      "style": "IPY_MODEL_bc1a4cbe759d4237b2d619ec9a8193bb",
      "value": " 65/65 [03:02&lt;00:00,  1.39s/it]"
     }
    },
    "84747e69a52546e083837d461161c690": {
     "model_module": "@jupyter-widgets/base",
     "model_module_version": "1.2.0",
     "model_name": "LayoutModel",
     "state": {
      "_model_module": "@jupyter-widgets/base",
      "_model_module_version": "1.2.0",
      "_model_name": "LayoutModel",
      "_view_count": null,
      "_view_module": "@jupyter-widgets/base",
      "_view_module_version": "1.2.0",
      "_view_name": "LayoutView",
      "align_content": null,
      "align_items": null,
      "align_self": null,
      "border": null,
      "bottom": null,
      "display": null,
      "flex": null,
      "flex_flow": null,
      "grid_area": null,
      "grid_auto_columns": null,
      "grid_auto_flow": null,
      "grid_auto_rows": null,
      "grid_column": null,
      "grid_gap": null,
      "grid_row": null,
      "grid_template_areas": null,
      "grid_template_columns": null,
      "grid_template_rows": null,
      "height": null,
      "justify_content": null,
      "justify_items": null,
      "left": null,
      "margin": null,
      "max_height": null,
      "max_width": null,
      "min_height": null,
      "min_width": null,
      "object_fit": null,
      "object_position": null,
      "order": null,
      "overflow": null,
      "overflow_x": null,
      "overflow_y": null,
      "padding": null,
      "right": null,
      "top": null,
      "visibility": null,
      "width": null
     }
    },
    "bc1a4cbe759d4237b2d619ec9a8193bb": {
     "model_module": "@jupyter-widgets/controls",
     "model_module_version": "1.5.0",
     "model_name": "DescriptionStyleModel",
     "state": {
      "_model_module": "@jupyter-widgets/controls",
      "_model_module_version": "1.5.0",
      "_model_name": "DescriptionStyleModel",
      "_view_count": null,
      "_view_module": "@jupyter-widgets/base",
      "_view_module_version": "1.2.0",
      "_view_name": "StyleView",
      "description_width": ""
     }
    },
    "cfb9db10d22a40bdb51adc066f28ffb1": {
     "model_module": "@jupyter-widgets/controls",
     "model_module_version": "1.5.0",
     "model_name": "HTMLModel",
     "state": {
      "_dom_classes": [],
      "_model_module": "@jupyter-widgets/controls",
      "_model_module_version": "1.5.0",
      "_model_name": "HTMLModel",
      "_view_count": null,
      "_view_module": "@jupyter-widgets/controls",
      "_view_module_version": "1.5.0",
      "_view_name": "HTMLView",
      "description": "",
      "description_tooltip": null,
      "layout": "IPY_MODEL_5e361c94443d4ce594a4ac35304910af",
      "placeholder": "​",
      "style": "IPY_MODEL_1093e5a6d1ab4ac488b545afe77b6f96",
      "value": "Processing: 100%"
     }
    }
   }
  }
 },
 "nbformat": 4,
 "nbformat_minor": 1
}
